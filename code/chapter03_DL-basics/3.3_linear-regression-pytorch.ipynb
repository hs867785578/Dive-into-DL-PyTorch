{
 "cells": [
  {
   "cell_type": "markdown",
   "source": [
    "# 3.3 线性回归的简洁实现"
   ],
   "metadata": {}
  },
  {
   "cell_type": "markdown",
   "source": [
    "同步测试erwodishen"
   ],
   "metadata": {}
  },
  {
   "cell_type": "code",
   "execution_count": 16,
   "source": [
    "import torch\r\n",
    "from torch import nn\r\n",
    "import numpy as np\r\n",
    "torch.manual_seed(1)\r\n",
    "\r\n",
    "print(torch.__version__)\r\n",
    "torch.set_default_tensor_type('torch.FloatTensor')"
   ],
   "outputs": [
    {
     "output_type": "stream",
     "name": "stdout",
     "text": [
      "1.9.1\n"
     ]
    }
   ],
   "metadata": {}
  },
  {
   "cell_type": "markdown",
   "source": [
    "## 3.3.1 生成数据集"
   ],
   "metadata": {}
  },
  {
   "cell_type": "code",
   "execution_count": 17,
   "source": [
    "num_inputs = 2\r\n",
    "num_examples = 1000\r\n",
    "true_w = [2, -3.4]\r\n",
    "true_b = 4.2\r\n",
    "features = torch.tensor(np.random.normal(0, 1, (num_examples, num_inputs)), dtype=torch.float)\r\n",
    "labels = true_w[0] * features[:, 0] + true_w[1] * features[:, 1] + true_b\r\n",
    "labels += torch.tensor(np.random.normal(0, 0.01, size=labels.size()), dtype=torch.float)"
   ],
   "outputs": [],
   "metadata": {
    "collapsed": true
   }
  },
  {
   "cell_type": "markdown",
   "source": [
    "## 3.3.2 读取数据"
   ],
   "metadata": {}
  },
  {
   "cell_type": "code",
   "execution_count": 18,
   "source": [
    "import torch.utils.data as Data\r\n",
    "\r\n",
    "batch_size = 10\r\n",
    "\r\n",
    "# 将训练数据的特征和标签组合\r\n",
    "dataset = Data.TensorDataset(features, labels)\r\n",
    "\r\n",
    "# 把 dataset 放入 DataLoader\r\n",
    "data_iter = Data.DataLoader(\r\n",
    "    dataset=dataset,      # torch TensorDataset format\r\n",
    "    batch_size=batch_size,      # mini batch size\r\n",
    "    shuffle=True,               # 要不要打乱数据 (打乱比较好)\r\n",
    "    num_workers=2,              # 多线程来读数据\r\n",
    ")"
   ],
   "outputs": [],
   "metadata": {
    "collapsed": true
   }
  },
  {
   "cell_type": "code",
   "execution_count": 19,
   "source": [
    "for X, y in data_iter:\r\n",
    "    print(X, '\\n', y)\r\n",
    "    break"
   ],
   "outputs": [
    {
     "output_type": "stream",
     "name": "stdout",
     "text": [
      "tensor([[-1.2737,  0.3316],\n",
      "        [-0.9416, -0.1141],\n",
      "        [ 0.8900, -1.1473],\n",
      "        [-0.1083, -1.0301],\n",
      "        [ 0.8843,  1.1605],\n",
      "        [ 1.4580, -0.3198],\n",
      "        [ 1.4183,  0.6414],\n",
      "        [ 0.7091, -2.0789],\n",
      "        [ 0.6142,  0.2208],\n",
      "        [ 0.0355, -0.4588]]) \n",
      " tensor([ 0.5280,  2.7202,  9.8828,  7.4952,  2.0316,  8.1888,  4.8525, 12.6753,\n",
      "         4.6731,  5.8238])\n"
     ]
    }
   ],
   "metadata": {}
  },
  {
   "cell_type": "markdown",
   "source": [
    "## 3.3.3 定义模型"
   ],
   "metadata": {}
  },
  {
   "cell_type": "code",
   "execution_count": 20,
   "source": [
    "class LinearNet(nn.Module):\r\n",
    "    def __init__(self, n_feature):\r\n",
    "        super(LinearNet, self).__init__()\r\n",
    "        self.linear = nn.Linear(n_feature, 1)\r\n",
    "\r\n",
    "    def forward(self, x):\r\n",
    "        y = self.linear(x)\r\n",
    "        return y\r\n",
    "    \r\n",
    "net = LinearNet(num_inputs)\r\n",
    "print(net) # 使用print可以打印出网络的结构"
   ],
   "outputs": [
    {
     "output_type": "stream",
     "name": "stdout",
     "text": [
      "LinearNet(\n",
      "  (linear): Linear(in_features=2, out_features=1, bias=True)\n",
      ")\n"
     ]
    }
   ],
   "metadata": {}
  },
  {
   "cell_type": "code",
   "execution_count": 21,
   "source": [
    "# 写法一\r\n",
    "net = nn.Sequential(\r\n",
    "    nn.Linear(num_inputs, 1)\r\n",
    "    # 此处还可以传入其他层\r\n",
    "    )\r\n",
    "\r\n",
    "# 写法二\r\n",
    "net = nn.Sequential()\r\n",
    "net.add_module('linear', nn.Linear(num_inputs, 1))\r\n",
    "# net.add_module ......\r\n",
    "\r\n",
    "# 写法三\r\n",
    "from collections import OrderedDict\r\n",
    "net = nn.Sequential(OrderedDict([\r\n",
    "          ('linear', nn.Linear(num_inputs, 1))\r\n",
    "          # ......\r\n",
    "        ]))\r\n",
    "\r\n",
    "print(net)\r\n",
    "print(net[0])"
   ],
   "outputs": [
    {
     "output_type": "stream",
     "name": "stdout",
     "text": [
      "Sequential(\n",
      "  (linear): Linear(in_features=2, out_features=1, bias=True)\n",
      ")\n",
      "Linear(in_features=2, out_features=1, bias=True)\n"
     ]
    }
   ],
   "metadata": {}
  },
  {
   "cell_type": "code",
   "execution_count": 22,
   "source": [
    "for param in net.parameters():\r\n",
    "    print(param)"
   ],
   "outputs": [
    {
     "output_type": "stream",
     "name": "stdout",
     "text": [
      "Parameter containing:\n",
      "tensor([[-0.2756, -0.0516]], requires_grad=True)\n",
      "Parameter containing:\n",
      "tensor([-0.0637], requires_grad=True)\n"
     ]
    }
   ],
   "metadata": {}
  },
  {
   "cell_type": "markdown",
   "source": [
    "## 3.3.4 初始化模型参数"
   ],
   "metadata": {}
  },
  {
   "cell_type": "code",
   "execution_count": 23,
   "source": [
    "from torch.nn import init\r\n",
    "\r\n",
    "init.normal_(net[0].weight, mean=0.0, std=0.01)\r\n",
    "init.constant_(net[0].bias, val=0.0)  # 也可以直接修改bias的data: net[0].bias.data.fill_(0)"
   ],
   "outputs": [
    {
     "output_type": "execute_result",
     "data": {
      "text/plain": [
       "Parameter containing:\n",
       "tensor([0.], requires_grad=True)"
      ]
     },
     "metadata": {},
     "execution_count": 23
    }
   ],
   "metadata": {}
  },
  {
   "cell_type": "code",
   "execution_count": 24,
   "source": [
    "for param in net.parameters():\r\n",
    "    print(param)"
   ],
   "outputs": [
    {
     "output_type": "stream",
     "name": "stdout",
     "text": [
      "Parameter containing:\n",
      "tensor([[-0.0103, -0.0056]], requires_grad=True)\n",
      "Parameter containing:\n",
      "tensor([0.], requires_grad=True)\n"
     ]
    }
   ],
   "metadata": {}
  },
  {
   "cell_type": "markdown",
   "source": [
    "## 3.3.5 定义损失函数"
   ],
   "metadata": {}
  },
  {
   "cell_type": "code",
   "execution_count": 25,
   "source": [
    "loss = nn.MSELoss()"
   ],
   "outputs": [],
   "metadata": {
    "collapsed": true
   }
  },
  {
   "cell_type": "markdown",
   "source": [
    "## 3.3.6 定义优化算法"
   ],
   "metadata": {}
  },
  {
   "cell_type": "code",
   "execution_count": 26,
   "source": [
    "import torch.optim as optim\r\n",
    "\r\n",
    "optimizer = optim.SGD(net.parameters(), lr=0.03)\r\n",
    "print(optimizer)"
   ],
   "outputs": [
    {
     "output_type": "stream",
     "name": "stdout",
     "text": [
      "SGD (\n",
      "Parameter Group 0\n",
      "    dampening: 0\n",
      "    lr: 0.03\n",
      "    momentum: 0\n",
      "    nesterov: False\n",
      "    weight_decay: 0\n",
      ")\n"
     ]
    }
   ],
   "metadata": {}
  },
  {
   "cell_type": "code",
   "execution_count": 27,
   "source": [
    "# 为不同子网络设置不同的学习率\r\n",
    "# optimizer =optim.SGD([\r\n",
    "#                 # 如果对某个参数不指定学习率，就使用最外层的默认学习率\r\n",
    "#                 {'params': net.subnet1.parameters()}, # lr=0.03\r\n",
    "#                 {'params': net.subnet2.parameters(), 'lr': 0.01}\r\n",
    "#             ], lr=0.03)"
   ],
   "outputs": [],
   "metadata": {}
  },
  {
   "cell_type": "code",
   "execution_count": 28,
   "source": [
    "# # 调整学习率\r\n",
    "# for param_group in optimizer.param_groups:\r\n",
    "#     param_group['lr'] *= 0.1 # 学习率为之前的0.1倍"
   ],
   "outputs": [],
   "metadata": {
    "collapsed": true
   }
  },
  {
   "cell_type": "markdown",
   "source": [
    "## 3.3.7 训练模型"
   ],
   "metadata": {}
  },
  {
   "cell_type": "code",
   "execution_count": 29,
   "source": [
    "num_epochs = 3\r\n",
    "for epoch in range(1, num_epochs + 1):\r\n",
    "    for X, y in data_iter:\r\n",
    "        output = net(X)\r\n",
    "        l = loss(output, y.view(-1, 1))\r\n",
    "        optimizer.zero_grad() # 梯度清零，等价于net.zero_grad()\r\n",
    "        l.backward()\r\n",
    "        optimizer.step()\r\n",
    "    print('epoch %d, loss: %f' % (epoch, l.item()))"
   ],
   "outputs": [
    {
     "output_type": "stream",
     "name": "stdout",
     "text": [
      "epoch 1, loss: 0.000208\n",
      "epoch 2, loss: 0.000113\n",
      "epoch 3, loss: 0.000075\n"
     ]
    }
   ],
   "metadata": {}
  },
  {
   "cell_type": "code",
   "execution_count": 30,
   "source": [
    "dense = net[0]\r\n",
    "print(true_w, dense.weight.data)\r\n",
    "print(true_b, dense.bias.data)"
   ],
   "outputs": [
    {
     "output_type": "stream",
     "name": "stdout",
     "text": [
      "[2, -3.4] tensor([[ 1.9991, -3.4009]])\n",
      "4.2 tensor([4.2004])\n"
     ]
    }
   ],
   "metadata": {}
  },
  {
   "cell_type": "code",
   "execution_count": null,
   "source": [],
   "outputs": [],
   "metadata": {
    "collapsed": true
   }
  }
 ],
 "metadata": {
  "kernelspec": {
   "name": "python3",
   "display_name": "Python 3.6.13 64-bit ('pytorch': conda)"
  },
  "language_info": {
   "codemirror_mode": {
    "name": "ipython",
    "version": 3
   },
   "file_extension": ".py",
   "mimetype": "text/x-python",
   "name": "python",
   "nbconvert_exporter": "python",
   "pygments_lexer": "ipython3",
   "version": "3.6.13"
  },
  "interpreter": {
   "hash": "86ffae2e5e4c815e9a9b0605b3743b967171707a8c80bf173df3b9098b71cfa6"
  }
 },
 "nbformat": 4,
 "nbformat_minor": 2
}